{
 "cells": [
  {
   "cell_type": "code",
   "execution_count": 1,
   "id": "7a9b48da",
   "metadata": {},
   "outputs": [],
   "source": [
    "#importing necessary libraries\n",
    "import pandas as pd\n",
    "import numpy as np\n",
    "from scipy import stats\n",
    "from statsmodels.stats.proportion import proportions_ztest"
   ]
  },
  {
   "cell_type": "markdown",
   "id": "0ccf011e",
   "metadata": {},
   "source": [
    "# Data - Cutlets"
   ]
  },
  {
   "cell_type": "code",
   "execution_count": 2,
   "id": "bd2caaf6",
   "metadata": {},
   "outputs": [
    {
     "data": {
      "text/html": [
       "<div>\n",
       "<style scoped>\n",
       "    .dataframe tbody tr th:only-of-type {\n",
       "        vertical-align: middle;\n",
       "    }\n",
       "\n",
       "    .dataframe tbody tr th {\n",
       "        vertical-align: top;\n",
       "    }\n",
       "\n",
       "    .dataframe thead th {\n",
       "        text-align: right;\n",
       "    }\n",
       "</style>\n",
       "<table border=\"1\" class=\"dataframe\">\n",
       "  <thead>\n",
       "    <tr style=\"text-align: right;\">\n",
       "      <th></th>\n",
       "      <th>Unit A</th>\n",
       "      <th>Unit B</th>\n",
       "    </tr>\n",
       "  </thead>\n",
       "  <tbody>\n",
       "    <tr>\n",
       "      <th>0</th>\n",
       "      <td>6.8090</td>\n",
       "      <td>6.7703</td>\n",
       "    </tr>\n",
       "    <tr>\n",
       "      <th>1</th>\n",
       "      <td>6.4376</td>\n",
       "      <td>7.5093</td>\n",
       "    </tr>\n",
       "    <tr>\n",
       "      <th>2</th>\n",
       "      <td>6.9157</td>\n",
       "      <td>6.7300</td>\n",
       "    </tr>\n",
       "    <tr>\n",
       "      <th>3</th>\n",
       "      <td>7.3012</td>\n",
       "      <td>6.7878</td>\n",
       "    </tr>\n",
       "    <tr>\n",
       "      <th>4</th>\n",
       "      <td>7.4488</td>\n",
       "      <td>7.1522</td>\n",
       "    </tr>\n",
       "  </tbody>\n",
       "</table>\n",
       "</div>"
      ],
      "text/plain": [
       "   Unit A  Unit B\n",
       "0  6.8090  6.7703\n",
       "1  6.4376  7.5093\n",
       "2  6.9157  6.7300\n",
       "3  7.3012  6.7878\n",
       "4  7.4488  7.1522"
      ]
     },
     "execution_count": 2,
     "metadata": {},
     "output_type": "execute_result"
    }
   ],
   "source": [
    "#Importing the dataset\n",
    "df1 = pd.read_csv(\"D:\\Study\\Excelr DS\\Assignments\\AS-3-Hypothesis\\Cutlets.csv\")\n",
    "df1.head()"
   ]
  },
  {
   "cell_type": "code",
   "execution_count": 3,
   "id": "c6b63171",
   "metadata": {},
   "outputs": [
    {
     "name": "stdout",
     "output_type": "stream",
     "text": [
      "<class 'pandas.core.frame.DataFrame'>\n",
      "RangeIndex: 35 entries, 0 to 34\n",
      "Data columns (total 2 columns):\n",
      " #   Column  Non-Null Count  Dtype  \n",
      "---  ------  --------------  -----  \n",
      " 0   Unit A  35 non-null     float64\n",
      " 1   Unit B  35 non-null     float64\n",
      "dtypes: float64(2)\n",
      "memory usage: 688.0 bytes\n"
     ]
    }
   ],
   "source": [
    "#Getting the basic information of the dataset\n",
    "df1.info()"
   ]
  },
  {
   "cell_type": "markdown",
   "id": "7938e3eb",
   "metadata": {},
   "source": [
    "There are 2 columns and 35 entries in the dataset. There are no null values in the dataset, hence we shall continue with the further process."
   ]
  },
  {
   "cell_type": "markdown",
   "id": "ccc0dc76",
   "metadata": {},
   "source": [
    "## Checking the normality of the data"
   ]
  },
  {
   "cell_type": "markdown",
   "id": "4c468741",
   "metadata": {},
   "source": [
    "Using the Shapiro Test for checking the normality:\n",
    "\n",
    "H0 : The data is normal\n",
    "\n",
    "H1 : The data is not normal"
   ]
  },
  {
   "cell_type": "code",
   "execution_count": 4,
   "id": "32024615",
   "metadata": {},
   "outputs": [
    {
     "name": "stdout",
     "output_type": "stream",
     "text": [
      "ShapiroResult(statistic=0.9649458527565002, pvalue=0.3199819028377533)\n",
      "ShapiroResult(statistic=0.9727300405502319, pvalue=0.5224985480308533)\n"
     ]
    }
   ],
   "source": [
    "print(stats.shapiro(df1[\"Unit A\"]))\n",
    "print(stats.shapiro(df1[\"Unit B\"]))"
   ]
  },
  {
   "cell_type": "markdown",
   "id": "2992a3f6",
   "metadata": {},
   "source": [
    "Conclusion : \n",
    "\n",
    "Here, the p-value for both the datset is higher than 0.05, hence we do not reject H0 at 5% level of significance, and conclude that the data is normal. "
   ]
  },
  {
   "cell_type": "markdown",
   "id": "23944776",
   "metadata": {},
   "source": [
    "## Paired t-test "
   ]
  },
  {
   "cell_type": "markdown",
   "id": "a6a04320",
   "metadata": {},
   "source": [
    "H0 : There is no significance difference between the diameters of the Cutlets\n",
    "\n",
    "H1 : There is a significance difference between the diameters of the Cutlets"
   ]
  },
  {
   "cell_type": "code",
   "execution_count": 5,
   "id": "4f03ee78",
   "metadata": {},
   "outputs": [
    {
     "data": {
      "text/plain": [
       "Ttest_indResult(statistic=0.7228688704678063, pvalue=0.4722394724599501)"
      ]
     },
     "execution_count": 5,
     "metadata": {},
     "output_type": "execute_result"
    }
   ],
   "source": [
    "stats.ttest_ind(df1[\"Unit A\"], df1[\"Unit B\"])"
   ]
  },
  {
   "cell_type": "markdown",
   "id": "c8b6b706",
   "metadata": {},
   "source": [
    "Conclusion:\n",
    "\n",
    "Here, the p-value = 0.4722 > 0.05, hence we do not reject H0 at 5% level of significance and conclude that, there is no significance difference between the diameters of the cutlets."
   ]
  },
  {
   "cell_type": "markdown",
   "id": "e71c3477",
   "metadata": {},
   "source": [
    "# Data - LabTat"
   ]
  },
  {
   "cell_type": "code",
   "execution_count": 6,
   "id": "1195f0ba",
   "metadata": {},
   "outputs": [
    {
     "data": {
      "text/html": [
       "<div>\n",
       "<style scoped>\n",
       "    .dataframe tbody tr th:only-of-type {\n",
       "        vertical-align: middle;\n",
       "    }\n",
       "\n",
       "    .dataframe tbody tr th {\n",
       "        vertical-align: top;\n",
       "    }\n",
       "\n",
       "    .dataframe thead th {\n",
       "        text-align: right;\n",
       "    }\n",
       "</style>\n",
       "<table border=\"1\" class=\"dataframe\">\n",
       "  <thead>\n",
       "    <tr style=\"text-align: right;\">\n",
       "      <th></th>\n",
       "      <th>Laboratory 1</th>\n",
       "      <th>Laboratory 2</th>\n",
       "      <th>Laboratory 3</th>\n",
       "      <th>Laboratory 4</th>\n",
       "    </tr>\n",
       "  </thead>\n",
       "  <tbody>\n",
       "    <tr>\n",
       "      <th>0</th>\n",
       "      <td>185.35</td>\n",
       "      <td>165.53</td>\n",
       "      <td>176.70</td>\n",
       "      <td>166.13</td>\n",
       "    </tr>\n",
       "    <tr>\n",
       "      <th>1</th>\n",
       "      <td>170.49</td>\n",
       "      <td>185.91</td>\n",
       "      <td>198.45</td>\n",
       "      <td>160.79</td>\n",
       "    </tr>\n",
       "    <tr>\n",
       "      <th>2</th>\n",
       "      <td>192.77</td>\n",
       "      <td>194.92</td>\n",
       "      <td>201.23</td>\n",
       "      <td>185.18</td>\n",
       "    </tr>\n",
       "    <tr>\n",
       "      <th>3</th>\n",
       "      <td>177.33</td>\n",
       "      <td>183.00</td>\n",
       "      <td>199.61</td>\n",
       "      <td>176.42</td>\n",
       "    </tr>\n",
       "    <tr>\n",
       "      <th>4</th>\n",
       "      <td>193.41</td>\n",
       "      <td>169.57</td>\n",
       "      <td>204.63</td>\n",
       "      <td>152.60</td>\n",
       "    </tr>\n",
       "  </tbody>\n",
       "</table>\n",
       "</div>"
      ],
      "text/plain": [
       "   Laboratory 1  Laboratory 2  Laboratory 3  Laboratory 4\n",
       "0        185.35        165.53        176.70        166.13\n",
       "1        170.49        185.91        198.45        160.79\n",
       "2        192.77        194.92        201.23        185.18\n",
       "3        177.33        183.00        199.61        176.42\n",
       "4        193.41        169.57        204.63        152.60"
      ]
     },
     "execution_count": 6,
     "metadata": {},
     "output_type": "execute_result"
    }
   ],
   "source": [
    "#Importing the dataset\n",
    "df2 = pd.read_csv(\"D:\\Study\\Excelr DS\\Assignments\\AS-3-Hypothesis\\LabTAT.csv\")\n",
    "df2.head()"
   ]
  },
  {
   "cell_type": "code",
   "execution_count": 7,
   "id": "2d9a141d",
   "metadata": {},
   "outputs": [
    {
     "name": "stdout",
     "output_type": "stream",
     "text": [
      "<class 'pandas.core.frame.DataFrame'>\n",
      "RangeIndex: 120 entries, 0 to 119\n",
      "Data columns (total 4 columns):\n",
      " #   Column        Non-Null Count  Dtype  \n",
      "---  ------        --------------  -----  \n",
      " 0   Laboratory 1  120 non-null    float64\n",
      " 1   Laboratory 2  120 non-null    float64\n",
      " 2   Laboratory 3  120 non-null    float64\n",
      " 3   Laboratory 4  120 non-null    float64\n",
      "dtypes: float64(4)\n",
      "memory usage: 3.9 KB\n"
     ]
    }
   ],
   "source": [
    "#Getting the basic information of the dataset\n",
    "df2.info()"
   ]
  },
  {
   "cell_type": "markdown",
   "id": "24e14b7b",
   "metadata": {},
   "source": [
    "There are 4 columns and 120 entries in the dataset. There are no null values in the dataset, hence we shall continue with the further process."
   ]
  },
  {
   "cell_type": "markdown",
   "id": "52de2d40",
   "metadata": {},
   "source": [
    "## Checking the normality of the data"
   ]
  },
  {
   "cell_type": "markdown",
   "id": "ccb0a3e2",
   "metadata": {},
   "source": [
    "Using the Shapiro Test for checking the normality:\n",
    "\n",
    "H0 : The data is normal\n",
    "\n",
    "H1 : The data is not normal"
   ]
  },
  {
   "cell_type": "code",
   "execution_count": 8,
   "id": "8e145c59",
   "metadata": {},
   "outputs": [
    {
     "name": "stdout",
     "output_type": "stream",
     "text": [
      "ShapiroResult(statistic=0.9901824593544006, pvalue=0.5506953597068787)\n",
      "ShapiroResult(statistic=0.9936322569847107, pvalue=0.8637524843215942)\n",
      "ShapiroResult(statistic=0.9886345267295837, pvalue=0.4205053448677063)\n",
      "ShapiroResult(statistic=0.9913753271102905, pvalue=0.6618951559066772)\n"
     ]
    }
   ],
   "source": [
    "print(stats.shapiro(df2[\"Laboratory 1\"]))\n",
    "print(stats.shapiro(df2[\"Laboratory 2\"]))\n",
    "print(stats.shapiro(df2[\"Laboratory 3\"]))\n",
    "print(stats.shapiro(df2[\"Laboratory 4\"]))"
   ]
  },
  {
   "cell_type": "markdown",
   "id": "4c5ac3ac",
   "metadata": {},
   "source": [
    "Conclusion : \n",
    "\n",
    "Here, the p-value for all the datset is higher than 0.05, hence we do not reject H0 at 5% level of significance, and conclude that the data is normal. "
   ]
  },
  {
   "cell_type": "markdown",
   "id": "8d1e433f",
   "metadata": {},
   "source": [
    "## ANOVA test"
   ]
  },
  {
   "cell_type": "markdown",
   "id": "2cd74abd",
   "metadata": {},
   "source": [
    "H0 : There is no significance difference between the TAT of the laboratories.\n",
    "\n",
    "H1 : There is a significance difference between any pair of TAT of the laboratories."
   ]
  },
  {
   "cell_type": "code",
   "execution_count": 9,
   "id": "f51a2cf1",
   "metadata": {},
   "outputs": [
    {
     "data": {
      "text/plain": [
       "F_onewayResult(statistic=118.70421654401437, pvalue=2.1156708949992414e-57)"
      ]
     },
     "execution_count": 9,
     "metadata": {},
     "output_type": "execute_result"
    }
   ],
   "source": [
    "stats.stats.f_oneway(df2[\"Laboratory 1\"], df2[\"Laboratory 2\"], df2[\"Laboratory 3\"], df2[\"Laboratory 4\"])"
   ]
  },
  {
   "cell_type": "markdown",
   "id": "3003897d",
   "metadata": {},
   "source": [
    "Conclusion : \n",
    "\n",
    "Here, the p-value is less than 0.05, hence we reject the H0 at 5% level of significance and conclude that, there is a significance difference between any pair of TAT of the laboratories."
   ]
  },
  {
   "cell_type": "markdown",
   "id": "7610e2be",
   "metadata": {},
   "source": [
    "# Data - BuyerRatio"
   ]
  },
  {
   "cell_type": "code",
   "execution_count": 10,
   "id": "4eb4de70",
   "metadata": {},
   "outputs": [
    {
     "data": {
      "text/html": [
       "<div>\n",
       "<style scoped>\n",
       "    .dataframe tbody tr th:only-of-type {\n",
       "        vertical-align: middle;\n",
       "    }\n",
       "\n",
       "    .dataframe tbody tr th {\n",
       "        vertical-align: top;\n",
       "    }\n",
       "\n",
       "    .dataframe thead th {\n",
       "        text-align: right;\n",
       "    }\n",
       "</style>\n",
       "<table border=\"1\" class=\"dataframe\">\n",
       "  <thead>\n",
       "    <tr style=\"text-align: right;\">\n",
       "      <th></th>\n",
       "      <th>Observed Values</th>\n",
       "      <th>East</th>\n",
       "      <th>West</th>\n",
       "      <th>North</th>\n",
       "      <th>South</th>\n",
       "    </tr>\n",
       "  </thead>\n",
       "  <tbody>\n",
       "    <tr>\n",
       "      <th>0</th>\n",
       "      <td>Males</td>\n",
       "      <td>50</td>\n",
       "      <td>142</td>\n",
       "      <td>131</td>\n",
       "      <td>70</td>\n",
       "    </tr>\n",
       "    <tr>\n",
       "      <th>1</th>\n",
       "      <td>Females</td>\n",
       "      <td>435</td>\n",
       "      <td>1523</td>\n",
       "      <td>1356</td>\n",
       "      <td>750</td>\n",
       "    </tr>\n",
       "  </tbody>\n",
       "</table>\n",
       "</div>"
      ],
      "text/plain": [
       "  Observed Values  East  West  North  South\n",
       "0           Males    50   142    131     70\n",
       "1         Females   435  1523   1356    750"
      ]
     },
     "execution_count": 10,
     "metadata": {},
     "output_type": "execute_result"
    }
   ],
   "source": [
    "#Importing the dataset\n",
    "df3 = pd.read_csv(\"D:\\Study\\Excelr DS\\Assignments\\AS-3-Hypothesis\\BuyerRatio.csv\")\n",
    "df3.head()"
   ]
  },
  {
   "cell_type": "code",
   "execution_count": 11,
   "id": "d9161ec7",
   "metadata": {},
   "outputs": [
    {
     "name": "stdout",
     "output_type": "stream",
     "text": [
      "<class 'pandas.core.frame.DataFrame'>\n",
      "RangeIndex: 2 entries, 0 to 1\n",
      "Data columns (total 5 columns):\n",
      " #   Column           Non-Null Count  Dtype \n",
      "---  ------           --------------  ----- \n",
      " 0   Observed Values  2 non-null      object\n",
      " 1   East             2 non-null      int64 \n",
      " 2   West             2 non-null      int64 \n",
      " 3   North            2 non-null      int64 \n",
      " 4   South            2 non-null      int64 \n",
      "dtypes: int64(4), object(1)\n",
      "memory usage: 208.0+ bytes\n"
     ]
    }
   ],
   "source": [
    "#Getting the basic information of the dataset\n",
    "df3.info()"
   ]
  },
  {
   "cell_type": "markdown",
   "id": "bd59b92e",
   "metadata": {},
   "source": [
    "There are 5 columns and 2 entries in the dataset. There are no null values in the dataset, hence we shall continue with the further process."
   ]
  },
  {
   "cell_type": "markdown",
   "id": "220c9406",
   "metadata": {},
   "source": [
    "## Chi-Square Test "
   ]
  },
  {
   "cell_type": "markdown",
   "id": "5ee7cce3",
   "metadata": {},
   "source": [
    "H0 : The male-female buyer ratios are similar across the regions\n",
    "\n",
    "H1 : The male-female buyer ratios are not similar across the regions"
   ]
  },
  {
   "cell_type": "code",
   "execution_count": 12,
   "id": "4c44f32e",
   "metadata": {},
   "outputs": [
    {
     "data": {
      "text/plain": [
       "(1.5959455386610577,\n",
       " 0.6603094907091882,\n",
       " 3,\n",
       " array([[  42.76531299,  442.23468701],\n",
       "        [ 146.81287862, 1518.18712138],\n",
       "        [ 131.11756787, 1355.88243213],\n",
       "        [  72.30424052,  747.69575948]]))"
      ]
     },
     "execution_count": 12,
     "metadata": {},
     "output_type": "execute_result"
    }
   ],
   "source": [
    "stats.chi2_contingency([df3[\"East\"], df3[\"West\"], df3[\"North\"], df3[\"South\"]])"
   ]
  },
  {
   "cell_type": "markdown",
   "id": "416b6f49",
   "metadata": {},
   "source": [
    "Conclusion:\n",
    "\n",
    "Here the p-value = 0.6603 > 0.05, hence we do not reject H0 at 5% level of significance, and conclude that the male-female buyer ratios are similar across the regions"
   ]
  },
  {
   "cell_type": "markdown",
   "id": "0ee7d917",
   "metadata": {},
   "source": [
    "# Data - Customer Order Form"
   ]
  },
  {
   "cell_type": "code",
   "execution_count": 13,
   "id": "2083539a",
   "metadata": {},
   "outputs": [
    {
     "data": {
      "text/html": [
       "<div>\n",
       "<style scoped>\n",
       "    .dataframe tbody tr th:only-of-type {\n",
       "        vertical-align: middle;\n",
       "    }\n",
       "\n",
       "    .dataframe tbody tr th {\n",
       "        vertical-align: top;\n",
       "    }\n",
       "\n",
       "    .dataframe thead th {\n",
       "        text-align: right;\n",
       "    }\n",
       "</style>\n",
       "<table border=\"1\" class=\"dataframe\">\n",
       "  <thead>\n",
       "    <tr style=\"text-align: right;\">\n",
       "      <th></th>\n",
       "      <th>Phillippines</th>\n",
       "      <th>Indonesia</th>\n",
       "      <th>Malta</th>\n",
       "      <th>India</th>\n",
       "    </tr>\n",
       "  </thead>\n",
       "  <tbody>\n",
       "    <tr>\n",
       "      <th>0</th>\n",
       "      <td>Error Free</td>\n",
       "      <td>Error Free</td>\n",
       "      <td>Defective</td>\n",
       "      <td>Error Free</td>\n",
       "    </tr>\n",
       "    <tr>\n",
       "      <th>1</th>\n",
       "      <td>Error Free</td>\n",
       "      <td>Error Free</td>\n",
       "      <td>Error Free</td>\n",
       "      <td>Defective</td>\n",
       "    </tr>\n",
       "    <tr>\n",
       "      <th>2</th>\n",
       "      <td>Error Free</td>\n",
       "      <td>Defective</td>\n",
       "      <td>Defective</td>\n",
       "      <td>Error Free</td>\n",
       "    </tr>\n",
       "    <tr>\n",
       "      <th>3</th>\n",
       "      <td>Error Free</td>\n",
       "      <td>Error Free</td>\n",
       "      <td>Error Free</td>\n",
       "      <td>Error Free</td>\n",
       "    </tr>\n",
       "    <tr>\n",
       "      <th>4</th>\n",
       "      <td>Error Free</td>\n",
       "      <td>Error Free</td>\n",
       "      <td>Defective</td>\n",
       "      <td>Error Free</td>\n",
       "    </tr>\n",
       "  </tbody>\n",
       "</table>\n",
       "</div>"
      ],
      "text/plain": [
       "  Phillippines   Indonesia       Malta       India\n",
       "0   Error Free  Error Free   Defective  Error Free\n",
       "1   Error Free  Error Free  Error Free   Defective\n",
       "2   Error Free   Defective   Defective  Error Free\n",
       "3   Error Free  Error Free  Error Free  Error Free\n",
       "4   Error Free  Error Free   Defective  Error Free"
      ]
     },
     "execution_count": 13,
     "metadata": {},
     "output_type": "execute_result"
    }
   ],
   "source": [
    "#Importing the dataset\n",
    "df4 = pd.read_csv(\"D:\\Study\\Excelr DS\\Assignments\\AS-3-Hypothesis\\Costomer+OrderForm.csv\")\n",
    "df4.head()"
   ]
  },
  {
   "cell_type": "code",
   "execution_count": 14,
   "id": "3cabdf3f",
   "metadata": {},
   "outputs": [
    {
     "name": "stdout",
     "output_type": "stream",
     "text": [
      "<class 'pandas.core.frame.DataFrame'>\n",
      "RangeIndex: 300 entries, 0 to 299\n",
      "Data columns (total 4 columns):\n",
      " #   Column        Non-Null Count  Dtype \n",
      "---  ------        --------------  ----- \n",
      " 0   Phillippines  300 non-null    object\n",
      " 1   Indonesia     300 non-null    object\n",
      " 2   Malta         300 non-null    object\n",
      " 3   India         300 non-null    object\n",
      "dtypes: object(4)\n",
      "memory usage: 9.5+ KB\n"
     ]
    }
   ],
   "source": [
    "#Getting the basic information of the dataset\n",
    "df4.info()"
   ]
  },
  {
   "cell_type": "markdown",
   "id": "fb935ea0",
   "metadata": {},
   "source": [
    "There are 4 columns and 300 entries in the dataset. There are no null values in the dataset, hence we shall continue with the further process."
   ]
  },
  {
   "cell_type": "markdown",
   "id": "8768d296",
   "metadata": {},
   "source": [
    "## Chi-Square Test "
   ]
  },
  {
   "cell_type": "markdown",
   "id": "b0a06bc7",
   "metadata": {},
   "source": [
    "H0 : The defective percentage do not vary by centre\n",
    "\n",
    "H1 : The defective percentage vary by centre"
   ]
  },
  {
   "cell_type": "code",
   "execution_count": 15,
   "id": "b35c7b15",
   "metadata": {},
   "outputs": [
    {
     "data": {
      "text/plain": [
       "(3.8589606858203545,\n",
       " 0.2771020991233144,\n",
       " 3,\n",
       " array([[271.75,  28.25],\n",
       "        [271.75,  28.25],\n",
       "        [271.75,  28.25],\n",
       "        [271.75,  28.25]]))"
      ]
     },
     "execution_count": 15,
     "metadata": {},
     "output_type": "execute_result"
    }
   ],
   "source": [
    "stats.chi2_contingency([df4['Phillippines'].value_counts(), df4['Indonesia'].value_counts(), df4['Malta'].value_counts(), df4['India'].value_counts()])"
   ]
  },
  {
   "cell_type": "markdown",
   "id": "6a05fdf6",
   "metadata": {},
   "source": [
    "Conclusion : \n",
    "\n",
    "Here, the p-value = 0.2771 > 0.05, hence we do not reject H0 at 5% level of significance, and conclude that the defective percentage do not vary by centre"
   ]
  }
 ],
 "metadata": {
  "kernelspec": {
   "display_name": "Python 3 (ipykernel)",
   "language": "python",
   "name": "python3"
  },
  "language_info": {
   "codemirror_mode": {
    "name": "ipython",
    "version": 3
   },
   "file_extension": ".py",
   "mimetype": "text/x-python",
   "name": "python",
   "nbconvert_exporter": "python",
   "pygments_lexer": "ipython3",
   "version": "3.9.7"
  }
 },
 "nbformat": 4,
 "nbformat_minor": 5
}
